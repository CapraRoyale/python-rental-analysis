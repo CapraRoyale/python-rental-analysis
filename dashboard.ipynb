{
 "cells": [
  {
   "cell_type": "markdown",
   "metadata": {},
   "source": [
    "# San Francisco Rental Prices Dashboard\n",
    "\n",
    "In this notebook, you will compile the visualizations from the previous analysis into functions that can be used for a Panel dashboard."
   ]
  },
  {
   "cell_type": "code",
   "execution_count": 10,
   "metadata": {
    "tags": []
   },
   "outputs": [],
   "source": [
    "# initial imports\n",
    "import os\n",
    "import pandas as pd\n",
    "import matplotlib.pyplot as plt\n",
    "import panel as pn\n",
    "import plotly.express as px\n",
    "import hvplot.pandas\n",
    "from pathlib import Path\n",
    "from dotenv import load_dotenv\n",
    "pn.extension('plotly')\n",
    "\n",
    "# Initialize the Panel Extensions (for Plotly)"
   ]
  },
  {
   "cell_type": "code",
   "execution_count": 11,
   "metadata": {},
   "outputs": [],
   "source": [
    "# Read the Mapbox API key\n",
    "load_dotenv(\"./.env\")\n",
    "mapbox_token = os.getenv(\"MAPBOX\")"
   ]
  },
  {
   "cell_type": "markdown",
   "metadata": {},
   "source": [
    "# Import Data"
   ]
  },
  {
   "cell_type": "code",
   "execution_count": 12,
   "metadata": {},
   "outputs": [
    {
     "output_type": "execute_result",
     "data": {
      "text/plain": "             neighborhood  sale_price_sqr_foot  housing_units   gross_rent  \\\n0   Union Square District           903.993258      377427.50  2555.166667   \n1          Merced Heights           788.844818      380348.00  3414.000000   \n2           Miraloma Park           779.810842      375967.25  2155.250000   \n3         Pacific Heights           689.555817      378401.00  2817.285714   \n4           Westwood Park           687.087575      382295.00  3959.000000   \n..                    ...                  ...            ...          ...   \n64      Visitacion Valley           301.466180      381321.50  3657.000000   \n65          Outer Mission           242.370952      379374.50  2995.750000   \n66                Bayview           204.588623      376454.00  2318.400000   \n67          Hunters Point           170.624920      377427.50  2489.000000   \n68         Silver Terrace           170.292549      380348.00  3528.000000   \n\n         Lat        Lon  \n0   37.79101 -122.40210  \n1   37.71993 -122.46595  \n2   37.73415 -122.45700  \n3   37.79298 -122.43579  \n4   37.73415 -122.45700  \n..       ...        ...  \n64  37.72874 -122.41098  \n65  37.72280 -122.43869  \n66  37.73467 -122.40106  \n67  37.72551 -122.37178  \n68  37.73467 -122.40106  \n\n[69 rows x 6 columns]",
      "text/html": "<div>\n<style scoped>\n    .dataframe tbody tr th:only-of-type {\n        vertical-align: middle;\n    }\n\n    .dataframe tbody tr th {\n        vertical-align: top;\n    }\n\n    .dataframe thead th {\n        text-align: right;\n    }\n</style>\n<table border=\"1\" class=\"dataframe\">\n  <thead>\n    <tr style=\"text-align: right;\">\n      <th></th>\n      <th>neighborhood</th>\n      <th>sale_price_sqr_foot</th>\n      <th>housing_units</th>\n      <th>gross_rent</th>\n      <th>Lat</th>\n      <th>Lon</th>\n    </tr>\n  </thead>\n  <tbody>\n    <tr>\n      <th>0</th>\n      <td>Union Square District</td>\n      <td>903.993258</td>\n      <td>377427.50</td>\n      <td>2555.166667</td>\n      <td>37.79101</td>\n      <td>-122.40210</td>\n    </tr>\n    <tr>\n      <th>1</th>\n      <td>Merced Heights</td>\n      <td>788.844818</td>\n      <td>380348.00</td>\n      <td>3414.000000</td>\n      <td>37.71993</td>\n      <td>-122.46595</td>\n    </tr>\n    <tr>\n      <th>2</th>\n      <td>Miraloma Park</td>\n      <td>779.810842</td>\n      <td>375967.25</td>\n      <td>2155.250000</td>\n      <td>37.73415</td>\n      <td>-122.45700</td>\n    </tr>\n    <tr>\n      <th>3</th>\n      <td>Pacific Heights</td>\n      <td>689.555817</td>\n      <td>378401.00</td>\n      <td>2817.285714</td>\n      <td>37.79298</td>\n      <td>-122.43579</td>\n    </tr>\n    <tr>\n      <th>4</th>\n      <td>Westwood Park</td>\n      <td>687.087575</td>\n      <td>382295.00</td>\n      <td>3959.000000</td>\n      <td>37.73415</td>\n      <td>-122.45700</td>\n    </tr>\n    <tr>\n      <th>...</th>\n      <td>...</td>\n      <td>...</td>\n      <td>...</td>\n      <td>...</td>\n      <td>...</td>\n      <td>...</td>\n    </tr>\n    <tr>\n      <th>64</th>\n      <td>Visitacion Valley</td>\n      <td>301.466180</td>\n      <td>381321.50</td>\n      <td>3657.000000</td>\n      <td>37.72874</td>\n      <td>-122.41098</td>\n    </tr>\n    <tr>\n      <th>65</th>\n      <td>Outer Mission</td>\n      <td>242.370952</td>\n      <td>379374.50</td>\n      <td>2995.750000</td>\n      <td>37.72280</td>\n      <td>-122.43869</td>\n    </tr>\n    <tr>\n      <th>66</th>\n      <td>Bayview</td>\n      <td>204.588623</td>\n      <td>376454.00</td>\n      <td>2318.400000</td>\n      <td>37.73467</td>\n      <td>-122.40106</td>\n    </tr>\n    <tr>\n      <th>67</th>\n      <td>Hunters Point</td>\n      <td>170.624920</td>\n      <td>377427.50</td>\n      <td>2489.000000</td>\n      <td>37.72551</td>\n      <td>-122.37178</td>\n    </tr>\n    <tr>\n      <th>68</th>\n      <td>Silver Terrace</td>\n      <td>170.292549</td>\n      <td>380348.00</td>\n      <td>3528.000000</td>\n      <td>37.73467</td>\n      <td>-122.40106</td>\n    </tr>\n  </tbody>\n</table>\n<p>69 rows × 6 columns</p>\n</div>"
     },
     "metadata": {},
     "execution_count": 12
    }
   ],
   "source": [
    "# Import the CSVs to Pandas DataFrames\n",
    "file_path = Path(\"Data/sfo_neighborhoods_census_data.csv\")\n",
    "sfo_data = pd.read_csv(file_path, index_col=\"year\")\n",
    "\n",
    "sfo_avg_neighborhood_cost_data = sfo_data.groupby(\"neighborhood\").mean()\n",
    "sfo_avg_neighborhood_cost_data.sort_values(\"sale_price_sqr_foot\", ascending=False, inplace=True)\n",
    "sfo_avg_neighborhood_cost_data.reset_index(inplace=True)\n",
    "grouped_sfo_data = sfo_data.groupby([\"year\", \"neighborhood\"]).mean()\n",
    "\n",
    "coordinate_file_path = Path(\"Data/neighborhoods_coordinates.csv\")\n",
    "df_neighborhood_locations = pd.read_csv(coordinate_file_path)\n",
    "\n",
    "new_sfo_merge = sfo_avg_neighborhood_cost_data.merge(df_neighborhood_locations, left_on=\"neighborhood\", right_on=\"Neighborhood\")\n",
    "new_sfo_merge.drop(\"Neighborhood\", axis=1)"
   ]
  },
  {
   "cell_type": "markdown",
   "metadata": {},
   "source": [
    "- - -"
   ]
  },
  {
   "cell_type": "markdown",
   "metadata": {},
   "source": [
    "## Panel Visualizations\n",
    "\n",
    "In this section, you will copy the code for each plot type from your analysis notebook and place it into separate functions that Panel can use to create panes for the dashboard. \n",
    "\n",
    "These functions will convert the plot object to a Panel pane.\n",
    "\n",
    "Be sure to include any DataFrame transformation/manipulation code required along with the plotting code.\n",
    "\n",
    "Return a Panel pane object from each function that can be used to build the dashboard.\n",
    "\n",
    "Note: Remove any `.show()` lines from the code. We want to return the plots instead of showing them. The Panel dashboard will then display the plots."
   ]
  },
  {
   "cell_type": "code",
   "execution_count": 13,
   "metadata": {},
   "outputs": [],
   "source": [
    "# Define Panel Visualization Functions\n",
    "def housing_units_per_year():\n",
    "    \"\"\"Housing Units Per Year.\"\"\"\n",
    "    \n",
    "    sfo_data_ymin = sfo_data[\"housing_units\"].min() - 1000\n",
    "    sfo_data_ymax = sfo_data[\"housing_units\"].max() + 1000\n",
    "\n",
    "    sfo_data.groupby([\"year\"]).mean().plot(\n",
    "        kind=\"bar\",\n",
    "        y=\"housing_units\",\n",
    "        label=\"Housing Units\",\n",
    "        ylim=(sfo_data_ymin, sfo_data_ymax)\n",
    "        )\n",
    "\n",
    "def average_gross_rent():\n",
    "    \"\"\"Average Gross Rent in San Francisco Per Year.\"\"\"\n",
    "    \n",
    "    sfo_data.groupby([\"year\"]).mean().plot(\n",
    "        kind=\"line\",\n",
    "        y=\"gross_rent\",\n",
    "        label=\"Average Gross Rent in San Fransisco\")\n",
    "\n",
    "def average_sales_price():\n",
    "    \"\"\"Average Sales Price Per Year.\"\"\"\n",
    "    \n",
    "    sfo_data.groupby([\"year\"]).mean().plot(\n",
    "        kind=\"line\",\n",
    "        y=\"sale_price_sqr_foot\",\n",
    "        label=\"Sale Price Per Sq Ft\"\n",
    "        )\n",
    "\n",
    "def average_price_by_neighborhood():\n",
    "    \"\"\"Average Prices by Neighborhood.\"\"\"\n",
    "    \n",
    "    grouped_sfo_data.hvplot.line(\n",
    "        x=\"year\",\n",
    "        y=\"sale_price_sqr_foot\",\n",
    "        xlabel=\"Year\",\n",
    "        ylabel=\"Sale Price Per Sqr Foot\",\n",
    "        groupby=\"neighborhood\"\n",
    "        )\n",
    "\n",
    "def top_most_expensive_neighborhoods():\n",
    "    \"\"\"Top 10 Most Expensive Neighborhoods.\"\"\"\n",
    "    \n",
    "    sfo_avg_neighborhood_cost_data.head(10).plot(\n",
    "        kind=\"bar\",\n",
    "        y=\"sale_price_sqr_foot\",\n",
    "        xlabel=\"SFO Neighborhood\",\n",
    "        ylabel=\"Sale Price Per Square Foot\",\n",
    "        ylim=(600,950)\n",
    "        )\n",
    "\n",
    "\n",
    "def parallel_coordinates():\n",
    "    \"\"\"Parallel Coordinates Plot.\"\"\"\n",
    "    \n",
    "    fig = px.parallel_coordinates(\n",
    "        sfo_avg_neighborhood_cost_data,\n",
    "        color=\"sale_price_sqr_foot\",\n",
    "        color_continuous_scale=px.colors.sequential.Inferno,\n",
    "        labels={\"index\":\"Neighborhood\", \"sale_price_sqr_foot\":\"Price Per Square Foot\", \"housing_units\":\"Number of Housing Units\", \"gross_rent\":\"Gross Rent\"})\n",
    "\n",
    "\n",
    "def parallel_categories():\n",
    "    \"\"\"Parallel Categories Plot.\"\"\"\n",
    "    \n",
    "    fig = px.parallel_categories(\n",
    "        sfo_avg_neighborhood_cost_data.head(10),\n",
    "        dimensions=[\"neighborhood\", \"sale_price_sqr_foot\", \"housing_units\", \"gross_rent\"],\n",
    "        color_continuous_scale=px.colors.sequential.Viridis,\n",
    "        color=\"sale_price_sqr_foot\",\n",
    "        labels={\n",
    "            \"neighborhood\":\"Neighborhood\",\n",
    "            \"sale_price_sqr_foot\":\"Price Per Square Foot\",\n",
    "            \"housing_units\":\"Number of Housing Units\",\n",
    "            \"gross_rent\":\"Gross Rent\"}\n",
    "            )\n",
    "\n",
    "def neighborhood_map():\n",
    "    \"\"\"Neighborhood Map\"\"\"\n",
    "\n",
    "    sfo_map = px.scatter_mapbox(\n",
    "        new_sfo_merge,\n",
    "        lat=\"Lat\",\n",
    "        lon=\"Lon\",\n",
    "        size=\"sale_price_sqr_foot\",\n",
    "        color=\"neighborhood\",\n",
    "        zoom=10,\n",
    "        mapbox_style=\"open-street-map\"\n",
    "        )\n"
   ]
  },
  {
   "cell_type": "markdown",
   "metadata": {},
   "source": [
    "## Panel Dashboard\n",
    "\n",
    "In this section, you will combine all of the plots into a single dashboard view using Panel. Be creative with your dashboard design!"
   ]
  },
  {
   "cell_type": "code",
   "execution_count": 14,
   "metadata": {},
   "outputs": [],
   "source": [
    "row_metrics = pn.Row(\n",
    "    (\"Housing Units Per Year\", housing_units_per_year),\n",
    "    (\"Average Gross Rent Citywide\", average_gross_rent),\n",
    "    (\"Average Sales Price Citywide\", average_sales_price)\n",
    "    )\n",
    "\n",
    "row_cost = pn.Row(\n",
    "    (\"Average Price by Neighborhood\", average_price_by_neighborhood),\n",
    "    (\"Top Most Expensive Neighborhoods\", top_most_expensive_neighborhoods),\n",
    ")\n",
    "column_compare = pn.Column(\n",
    "    parallel_categories,\n",
    "    parallel_coordinates\n",
    ")\n",
    "\n",
    "tabular = pn.Tabs(\n",
    "    row_metrics,\n",
    "    row_cost,\n",
    "    column_compare,\n",
    "    neighborhood_map\n",
    ")"
   ]
  },
  {
   "cell_type": "code",
   "execution_count": 15,
   "metadata": {},
   "outputs": [
    {
     "output_type": "display_data",
     "data": {},
     "metadata": {}
    },
    {
     "output_type": "execute_result",
     "data": {
      "text/html": "<div id='1027'>\n\n\n\n\n\n  <div class=\"bk-root\" id=\"e08d4ad5-3734-48ed-9664-9f330365bc79\" data-root-id=\"1027\"></div>\n</div>\n<script type=\"application/javascript\">(function(root) {\n  function embed_document(root) {\n  var docs_json = {\"e0f43b07-ea44-48de-b33b-bed2250689e1\":{\"roots\":{\"references\":[{\"attributes\":{\"margin\":[0,0,0,0],\"name\":\"Column01507\"},\"id\":\"1043\",\"type\":\"Column\"},{\"attributes\":{\"margin\":[5,5,5,5],\"name\":\"interactive01496\"},\"id\":\"1041\",\"type\":\"panel.models.markup.HTML\"},{\"attributes\":{\"children\":[{\"id\":\"1039\"},{\"id\":\"1040\"}],\"margin\":[0,0,0,0],\"name\":\"Column01497\"},\"id\":\"1038\",\"type\":\"Column\"},{\"attributes\":{\"children\":[{\"id\":\"1050\"}],\"margin\":[0,0,0,0],\"name\":\"Row01513\"},\"id\":\"1049\",\"type\":\"Row\"},{\"attributes\":{\"child\":{\"id\":\"1037\"},\"name\":\"Column01508\",\"title\":\"Column01508\"},\"id\":\"1046\",\"type\":\"Panel\"},{\"attributes\":{\"child\":{\"id\":\"1033\"},\"name\":\"Row01495\",\"title\":\"Row01495\"},\"id\":\"1036\",\"type\":\"Panel\"},{\"attributes\":{\"children\":[{\"id\":\"1029\"},{\"id\":\"1030\"},{\"id\":\"1031\"}],\"margin\":[0,0,0,0],\"name\":\"Row01490\"},\"id\":\"1028\",\"type\":\"Row\"},{\"attributes\":{\"children\":[{\"id\":\"1048\"},{\"id\":\"1049\"}],\"margin\":[0,0,0,0],\"name\":\"Column01510\"},\"id\":\"1047\",\"type\":\"Column\"},{\"attributes\":{\"children\":[{\"id\":\"1043\"},{\"id\":\"1044\"}],\"margin\":[0,0,0,0],\"name\":\"Column01503\"},\"id\":\"1042\",\"type\":\"Column\"},{\"attributes\":{\"child\":{\"id\":\"1028\"},\"name\":\"Row01490\",\"title\":\"Row01490\"},\"id\":\"1032\",\"type\":\"Panel\"},{\"attributes\":{\"children\":[{\"id\":\"1041\"}],\"margin\":[0,0,0,0],\"name\":\"Row01500\"},\"id\":\"1040\",\"type\":\"Row\"},{\"attributes\":{\"margin\":[0,0,0,0],\"name\":\"Column01501\"},\"id\":\"1039\",\"type\":\"Column\"},{\"attributes\":{\"margin\":[0,0,0,0],\"name\":\"Column01514\"},\"id\":\"1048\",\"type\":\"Column\"},{\"attributes\":{\"child\":{\"id\":\"1047\"},\"name\":\"Column01510\",\"title\":\"Column\"},\"id\":\"1051\",\"type\":\"Panel\"},{\"attributes\":{\"margin\":[5,5,5,5],\"name\":\"Str01486\",\"text\":\"&lt;pre&gt;(&#x27;Average Gross Rent Citywide&#x27;, &lt;function average_gross_rent at 0x0000024E9E213D30&gt;)&lt;/pre&gt;\"},\"id\":\"1030\",\"type\":\"panel.models.markup.HTML\"},{\"attributes\":{\"margin\":[5,5,5,5],\"name\":\"interactive01502\"},\"id\":\"1045\",\"type\":\"panel.models.markup.HTML\"},{\"attributes\":{\"client_comm_id\":\"6501a35741ef4755b895e5cf3805ca8f\",\"comm_id\":\"7d0d715c11ba40a4816d75c0cc737a0c\",\"plot_id\":\"1027\"},\"id\":\"1052\",\"type\":\"panel.models.comm_manager.CommManager\"},{\"attributes\":{\"children\":[{\"id\":\"1034\"},{\"id\":\"1035\"}],\"margin\":[0,0,0,0],\"name\":\"Row01495\"},\"id\":\"1033\",\"type\":\"Row\"},{\"attributes\":{\"margin\":[5,5,5,5],\"name\":\"Str01488\",\"text\":\"&lt;pre&gt;(&#x27;Average Sales Price Citywide&#x27;, &lt;function average_sales_price at 0x0000024E9E213DC0&gt;)&lt;/pre&gt;\"},\"id\":\"1031\",\"type\":\"panel.models.markup.HTML\"},{\"attributes\":{\"margin\":[5,5,5,5],\"name\":\"interactive01509\"},\"id\":\"1050\",\"type\":\"panel.models.markup.HTML\"},{\"attributes\":{\"margin\":[5,5,5,5],\"name\":\"Str01491\",\"text\":\"&lt;pre&gt;(&#x27;Average Price by Neighborhood&#x27;, &lt;function average_price_by_neighborhood at 0x0000024E9E213E50&gt;)&lt;/pre&gt;\"},\"id\":\"1034\",\"type\":\"panel.models.markup.HTML\"},{\"attributes\":{\"margin\":[5,5,5,5],\"name\":\"Str01484\",\"text\":\"&lt;pre&gt;(&#x27;Housing Units Per Year&#x27;, &lt;function housing_units_per_year at 0x0000024E9E213B80&gt;)&lt;/pre&gt;\"},\"id\":\"1029\",\"type\":\"panel.models.markup.HTML\"},{\"attributes\":{\"margin\":[5,5,5,5],\"name\":\"Str01493\",\"text\":\"&lt;pre&gt;(&#x27;Top Most Expensive Neighborhoods&#x27;, &lt;function top_most_expensive_neighborhoods at 0x0000024E9E213EE0&gt;)&lt;/pre&gt;\"},\"id\":\"1035\",\"type\":\"panel.models.markup.HTML\"},{\"attributes\":{\"children\":[{\"id\":\"1038\"},{\"id\":\"1042\"}],\"margin\":[0,0,0,0],\"name\":\"Column01508\"},\"id\":\"1037\",\"type\":\"Column\"},{\"attributes\":{\"children\":[{\"id\":\"1045\"}],\"margin\":[0,0,0,0],\"name\":\"Row01506\"},\"id\":\"1044\",\"type\":\"Row\"},{\"attributes\":{\"margin\":[0,0,0,0],\"tabs\":[{\"id\":\"1032\"},{\"id\":\"1036\"},{\"id\":\"1046\"},{\"id\":\"1051\"}]},\"id\":\"1027\",\"type\":\"Tabs\"}],\"root_ids\":[\"1027\",\"1052\"]},\"title\":\"Bokeh Application\",\"version\":\"2.2.1\"}};\n  var render_items = [{\"docid\":\"e0f43b07-ea44-48de-b33b-bed2250689e1\",\"root_ids\":[\"1027\"],\"roots\":{\"1027\":\"e08d4ad5-3734-48ed-9664-9f330365bc79\"}}];\n  root.Bokeh.embed.embed_items_notebook(docs_json, render_items);\n  }\nif (root.Bokeh !== undefined) {\n    embed_document(root);\n  } else {\n    var attempts = 0;\n    var timer = setInterval(function(root) {\n      if (root.Bokeh !== undefined) {\n        clearInterval(timer);\n        embed_document(root);\n      } else if (document.readyState == \"complete\") {\n        attempts++;\n        if (attempts > 100) {\n          clearInterval(timer);\n          console.log(\"Bokeh: ERROR: Unable to run BokehJS code because BokehJS library is missing\");\n        }\n      }\n    }, 10, root)\n  }\n})(window);</script>",
      "application/vnd.holoviews_exec.v0+json": "",
      "text/plain": "Tabs\n    [0] Row\n        [0] Str(tuple)\n        [1] Str(tuple)\n        [2] Str(tuple)\n    [1] Row\n        [0] Str(tuple)\n        [1] Str(tuple)\n    [2] Column\n        [0] Column\n            [0] Column()\n            [1] Row\n                [0] Str(None, name='interactive01496')\n        [1] Column\n            [0] Column()\n            [1] Row\n                [0] Str(None, name='interactive01502')\n    [3] Column\n        [0] Column()\n        [1] Row\n            [0] Str(None, name='interactive01509')"
     },
     "metadata": {
      "application/vnd.holoviews_exec.v0+json": {
       "id": "1027"
      }
     },
     "execution_count": 15
    }
   ],
   "source": [
    "tabular.servable()"
   ]
  },
  {
   "cell_type": "code",
   "execution_count": null,
   "metadata": {},
   "outputs": [],
   "source": []
  }
 ],
 "metadata": {
  "file_extension": ".py",
  "kernelspec": {
   "name": "Python 3.8.5 64-bit ('UWFinTech': conda)",
   "display_name": "Python 3.8.5 64-bit ('UWFinTech': conda)",
   "metadata": {
    "interpreter": {
     "hash": "78a687a72fa6ace7c7212e710991da416bea657c5d91b1790e36a4ac1f1d7591"
    }
   }
  },
  "language_info": {
   "codemirror_mode": {
    "name": "ipython",
    "version": 3
   },
   "file_extension": ".py",
   "mimetype": "text/x-python",
   "name": "python",
   "nbconvert_exporter": "python",
   "pygments_lexer": "ipython3",
   "version": "3.8.5-final"
  },
  "mimetype": "text/x-python",
  "name": "python",
  "npconvert_exporter": "python",
  "pygments_lexer": "ipython3",
  "version": 3
 },
 "nbformat": 4,
 "nbformat_minor": 4
}